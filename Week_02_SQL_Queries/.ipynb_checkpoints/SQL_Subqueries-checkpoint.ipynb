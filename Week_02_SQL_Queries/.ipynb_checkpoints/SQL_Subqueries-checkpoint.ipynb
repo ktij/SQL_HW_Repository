{
 "cells": [
  {
   "cell_type": "markdown",
   "metadata": {
    "toc": true
   },
   "source": [
    "<h1>Table of Contents<span class=\"tocSkip\"></span></h1>\n",
    "<div class=\"toc\"><ul class=\"toc-item\"><li><span><a href=\"#SQL-Subqueries\" data-toc-modified-id=\"SQL-Subqueries-1\"><span class=\"toc-item-num\">1&nbsp;&nbsp;</span>SQL Subqueries</a></span><ul class=\"toc-item\"><li><span><a href=\"#Objectives\" data-toc-modified-id=\"Objectives-1.1\"><span class=\"toc-item-num\">1.1&nbsp;&nbsp;</span>Objectives</a></span></li><li><span><a href=\"#SQL-Subqueries\" data-toc-modified-id=\"SQL-Subqueries-1.2\"><span class=\"toc-item-num\">1.2&nbsp;&nbsp;</span>SQL Subqueries</a></span></li><li><span><a href=\"#Subqueries-in-FROM\" data-toc-modified-id=\"Subqueries-in-FROM-1.3\"><span class=\"toc-item-num\">1.3&nbsp;&nbsp;</span>Subqueries in <code>FROM</code></a></span></li><li><span><a href=\"#Note:-Subqueries-are-Like-New-Tables!\" data-toc-modified-id=\"Note:-Subqueries-are-Like-New-Tables!-1.4\"><span class=\"toc-item-num\">1.4&nbsp;&nbsp;</span>Note: Subqueries are Like New Tables!</a></span></li><li><span><a href=\"#Subqueries-in-WHERE\" data-toc-modified-id=\"Subqueries-in-WHERE-1.5\"><span class=\"toc-item-num\">1.5&nbsp;&nbsp;</span>Subqueries in <code>WHERE</code></a></span></li><li><span><a href=\"#Level-Up:-Common-Table-Expressions\" data-toc-modified-id=\"Level-Up:-Common-Table-Expressions-1.6\"><span class=\"toc-item-num\">1.6&nbsp;&nbsp;</span>Level Up: Common Table Expressions</a></span><ul class=\"toc-item\"><li><span><a href=\"#Exercise\" data-toc-modified-id=\"Exercise-1.6.1\"><span class=\"toc-item-num\">1.6.1&nbsp;&nbsp;</span>Exercise</a></span></li></ul></li></ul></li><li><span><a href=\"#SQL-Versions\" data-toc-modified-id=\"SQL-Versions-2\"><span class=\"toc-item-num\">2&nbsp;&nbsp;</span>SQL Versions</a></span><ul class=\"toc-item\"><li><span><a href=\"#SQL-Dialects\" data-toc-modified-id=\"SQL-Dialects-2.1\"><span class=\"toc-item-num\">2.1&nbsp;&nbsp;</span>SQL Dialects</a></span></li><li><span><a href=\"#SQLite-Pros-&amp;-Cons\" data-toc-modified-id=\"SQLite-Pros-&amp;-Cons-2.2\"><span class=\"toc-item-num\">2.2&nbsp;&nbsp;</span>SQLite Pros &amp; Cons</a></span><ul class=\"toc-item\"><li><span><a href=\"#Pros\" data-toc-modified-id=\"Pros-2.2.1\"><span class=\"toc-item-num\">2.2.1&nbsp;&nbsp;</span>Pros</a></span></li><li><span><a href=\"#Cons\" data-toc-modified-id=\"Cons-2.2.2\"><span class=\"toc-item-num\">2.2.2&nbsp;&nbsp;</span>Cons</a></span></li></ul></li><li><span><a href=\"#Extra-Resources:-SQL-Versions\" data-toc-modified-id=\"Extra-Resources:-SQL-Versions-2.3\"><span class=\"toc-item-num\">2.3&nbsp;&nbsp;</span>Extra Resources: SQL Versions</a></span></li></ul></li></ul></div>"
   ]
  },
  {
   "cell_type": "markdown",
   "metadata": {
    "ExecuteTime": {
     "end_time": "2021-10-22T17:05:56.075234Z",
     "start_time": "2021-10-22T17:05:55.582085Z"
    }
   },
   "source": [
    "# SQL Subqueries"
   ]
  },
  {
   "cell_type": "code",
   "execution_count": null,
   "metadata": {},
   "outputs": [],
   "source": [
    "import pandas as pd\n",
    "import sqlite3"
   ]
  },
  {
   "cell_type": "markdown",
   "metadata": {
    "heading_collapsed": true,
    "slideshow": {
     "slide_type": "slide"
    }
   },
   "source": [
    "## Objectives"
   ]
  },
  {
   "cell_type": "markdown",
   "metadata": {
    "hidden": true,
    "slideshow": {
     "slide_type": "slide"
    }
   },
   "source": [
    "- Use SQL subqueries to nest queries\n",
    "- Identify common SQL dialects and tools\n",
    "- Query data from web databases"
   ]
  },
  {
   "cell_type": "markdown",
   "metadata": {
    "heading_collapsed": true
   },
   "source": [
    "## SQL Subqueries"
   ]
  },
  {
   "cell_type": "markdown",
   "metadata": {
    "hidden": true
   },
   "source": [
    "Like you might nest one function within another in Python, you can nest queries in SQL. We can use a **subquery** within another query to succinctly implement queries that have multiple query steps."
   ]
  },
  {
   "cell_type": "code",
   "execution_count": null,
   "metadata": {
    "ExecuteTime": {
     "end_time": "2021-10-22T17:06:30.493095Z",
     "start_time": "2021-10-22T17:06:30.490131Z"
    },
    "hidden": true
   },
   "outputs": [],
   "source": [
    "conn = sqlite3.connect('data/flights.db')"
   ]
  },
  {
   "cell_type": "markdown",
   "metadata": {
    "heading_collapsed": true,
    "hidden": true
   },
   "source": [
    "## Subqueries in `FROM`"
   ]
  },
  {
   "cell_type": "markdown",
   "metadata": {
    "hidden": true
   },
   "source": [
    "You can use a subquery in the `FROM` clause - this is useful, for example, if you want to apply multiple aggregation functions.\n",
    "\n",
    "Let say we want to get the average of the number of routes departing from all airports. First we'd need to get the total number of routes departing from all airports, then take the average."
   ]
  },
  {
   "cell_type": "code",
   "execution_count": null,
   "metadata": {
    "ExecuteTime": {
     "end_time": "2021-10-22T17:10:01.308075Z",
     "start_time": "2021-10-22T17:10:01.040693Z"
    },
    "hidden": true,
    "scrolled": true
   },
   "outputs": [],
   "source": [
    "pd.read_sql('''\n",
    "SELECT \n",
    "    source AS depart_airport\n",
    "    , COUNT() AS number_of_departures\n",
    "FROM\n",
    "    routes\n",
    "GROUP BY\n",
    "    source\n",
    "''', conn)"
   ]
  },
  {
   "cell_type": "markdown",
   "metadata": {
    "hidden": true
   },
   "source": [
    "We can use this query as a subquery, and take the average of the new `number_of_departures` column."
   ]
  },
  {
   "cell_type": "code",
   "execution_count": null,
   "metadata": {
    "ExecuteTime": {
     "end_time": "2021-10-22T17:14:03.931172Z",
     "start_time": "2021-10-22T17:14:03.868528Z"
    },
    "hidden": true,
    "scrolled": true
   },
   "outputs": [],
   "source": [
    "pd.read_sql('''\n",
    "SELECT\n",
    "    AVG(number_of_departures)\n",
    "FROM (\n",
    "    SELECT \n",
    "        source AS depart_airport\n",
    "        ,COUNT() AS number_of_departures\n",
    "    FROM\n",
    "        routes\n",
    "    GROUP BY\n",
    "        source\n",
    ")\n",
    "''', conn)"
   ]
  },
  {
   "cell_type": "markdown",
   "metadata": {
    "heading_collapsed": true,
    "hidden": true
   },
   "source": [
    "## Note: Subqueries are Like New Tables!"
   ]
  },
  {
   "cell_type": "markdown",
   "metadata": {
    "hidden": true
   },
   "source": [
    "If you squint, you'll notice that the subquery is taking the place of where we might put a table!"
   ]
  },
  {
   "cell_type": "markdown",
   "metadata": {
    "hidden": true
   },
   "source": [
    "For example, checkout the SQL we wrote in our first subquery example:\n",
    "\n",
    "```sql\n",
    "SELECT \n",
    "    AVG(number_of_departures)\n",
    "FROM (\n",
    "    SELECT \n",
    "        source AS depart_airport\n",
    "        ,COUNT() AS number_of_departures\n",
    "    FROM\n",
    "        routes\n",
    "    GROUP BY\n",
    "        source\n",
    ")\n",
    "```"
   ]
  },
  {
   "cell_type": "markdown",
   "metadata": {
    "hidden": true
   },
   "source": [
    "We could imagine that some new table that returned by the subquery existed (let's call it `airport_departures`) and be placed in place of the subquery:\n",
    "\n",
    "```sql\n",
    "SELECT \n",
    "    AVG(number_of_departures)\n",
    "FROM (\n",
    "    airport_departures -- Replacing subquery with this hypothetical table\n",
    ") \n",
    "```"
   ]
  },
  {
   "cell_type": "markdown",
   "metadata": {
    "hidden": true
   },
   "source": [
    "You can actually use syntax close to this with **Common Table Expressions (CTEs)** found in the [Level Up section](#Level-Up:-Common-Table-Expressions) below."
   ]
  },
  {
   "cell_type": "markdown",
   "metadata": {
    "heading_collapsed": true,
    "hidden": true
   },
   "source": [
    "## Subqueries in `WHERE`"
   ]
  },
  {
   "cell_type": "markdown",
   "metadata": {
    "hidden": true
   },
   "source": [
    "You can use a subquery in the `WHERE` clause - this is useful, for example, if you want to filter a query based on results from another query.\n",
    "\n",
    "Let's say that we want to get a table with all of the departures and destinations for the flight routes, but I only want to include flights departing from the five countries with the most airports.\n",
    "\n",
    "To do this, we'd first need to identify the five countries that have the most airports. "
   ]
  },
  {
   "cell_type": "code",
   "execution_count": null,
   "metadata": {
    "ExecuteTime": {
     "end_time": "2021-10-22T17:20:46.108430Z",
     "start_time": "2021-10-22T17:20:46.084372Z"
    },
    "hidden": true
   },
   "outputs": [],
   "source": [
    "pd.read_sql('''\n",
    "SELECT \n",
    "    country \n",
    "    ,COUNT() AS number_of_airports_in_country\n",
    "FROM\n",
    "    airports\n",
    "GROUP BY\n",
    "    country\n",
    "ORDER BY\n",
    "    number_of_airports_in_country DESC\n",
    "LIMIT 5\n",
    "''', conn)"
   ]
  },
  {
   "cell_type": "markdown",
   "metadata": {
    "hidden": true
   },
   "source": [
    "I could enter these results into a new query of the routes table to get the data I want."
   ]
  },
  {
   "cell_type": "code",
   "execution_count": null,
   "metadata": {
    "ExecuteTime": {
     "end_time": "2021-10-22T17:24:14.558712Z",
     "start_time": "2021-10-22T17:24:14.424007Z"
    },
    "hidden": true
   },
   "outputs": [],
   "source": [
    "pd.read_sql('''\n",
    "SELECT \n",
    "    rt.source AS depart_airport\n",
    "    ,rt.dest AS destination_airport\n",
    "    ,ap.country AS depart_country\n",
    "FROM\n",
    "    routes AS rt\n",
    "    LEFT JOIN airports AS ap\n",
    "        ON rt.source_id = ap.id\n",
    "WHERE \n",
    "    ap.country IN (\n",
    "        \"United States\", \n",
    "        \"Canada\", \n",
    "        \"Germany\", \n",
    "        \"Australia\", \n",
    "        \"Russia\"\n",
    "    )\n",
    "ORDER BY \n",
    "    depart_country\n",
    "''', conn)"
   ]
  },
  {
   "cell_type": "markdown",
   "metadata": {
    "hidden": true
   },
   "source": [
    "This approach works but has a few limitations:\n",
    "\n",
    "- We have to manually enter the countries to filter them\n",
    "- The list of countries won't update with our data, so we'd have to monitor and manually change them in the future\n",
    "- We have to look at two separate queries to understand what our code is supposed to do\n",
    "- We have to run two separate queries, which might take longer than one combined query\n",
    "\n",
    "A better solution uses a subquery to get the list of 5 countries and feed it into our WHERE clause."
   ]
  },
  {
   "cell_type": "code",
   "execution_count": null,
   "metadata": {
    "ExecuteTime": {
     "end_time": "2021-10-22T17:28:01.697307Z",
     "start_time": "2021-10-22T17:28:01.512591Z"
    },
    "hidden": true
   },
   "outputs": [],
   "source": [
    "pd.read_sql('''\n",
    "SELECT \n",
    "    rt.source AS depart_airport\n",
    "    ,rt.dest AS destination_airport\n",
    "    ,ap.country AS depart_country\n",
    "FROM\n",
    "    routes AS rt\n",
    "    LEFT JOIN airports AS ap\n",
    "        ON rt.source_id = ap.id\n",
    "WHERE ap.country IN (\n",
    "-- Subquery to get the 5 countries with the most airports\n",
    "    SELECT \n",
    "        country \n",
    "    FROM \n",
    "        airports\n",
    "    GROUP BY \n",
    "        country\n",
    "    ORDER BY \n",
    "        COUNT() DESC\n",
    "    LIMIT 20\n",
    ")\n",
    "\n",
    "ORDER BY\n",
    "    depart_country\n",
    "''', conn)"
   ]
  },
  {
   "cell_type": "markdown",
   "metadata": {
    "heading_collapsed": true,
    "hidden": true
   },
   "source": [
    "## Level Up: Common Table Expressions"
   ]
  },
  {
   "cell_type": "markdown",
   "metadata": {
    "hidden": true
   },
   "source": [
    "Common Table Expressions (CTEs) are a more readable way to implement subqueries, using `WITH` and `AS`."
   ]
  },
  {
   "cell_type": "code",
   "execution_count": null,
   "metadata": {
    "ExecuteTime": {
     "end_time": "2021-10-22T17:31:27.280105Z",
     "start_time": "2021-10-22T17:31:27.135384Z"
    },
    "hidden": true
   },
   "outputs": [],
   "source": [
    "pd.read_sql('''\n",
    "WITH top_5_countries AS (\n",
    "    SELECT \n",
    "        country \n",
    "    FROM \n",
    "        airports\n",
    "    GROUP BY \n",
    "        country\n",
    "    ORDER BY \n",
    "        COUNT() DESC\n",
    "    LIMIT 5\n",
    ") \n",
    "\n",
    "SELECT \n",
    "    rt.source AS depart_airport\n",
    "    ,rt.dest AS destination_airport\n",
    "    ,ap.country AS depart_country\n",
    "FROM\n",
    "    routes AS rt\n",
    "    LEFT JOIN airports AS ap\n",
    "        ON rt.source_id = ap.id\n",
    "WHERE \n",
    "    ap.country IN top_5_countries\n",
    "ORDER BY \n",
    "    depart_country\n",
    "''', conn)"
   ]
  },
  {
   "cell_type": "markdown",
   "metadata": {
    "heading_collapsed": true,
    "hidden": true
   },
   "source": [
    "### Exercise"
   ]
  },
  {
   "cell_type": "markdown",
   "metadata": {
    "hidden": true
   },
   "source": [
    "Create a table listing all airlines that serve the three airports with the most outbound routes."
   ]
  },
  {
   "cell_type": "code",
   "execution_count": null,
   "metadata": {
    "hidden": true
   },
   "outputs": [],
   "source": [
    "## Your work here\n",
    "\n",
    "```\n",
    "SELECT ....\n",
    "FROM ....\n",
    "WHERE ....\n",
    "ORDER BY ...\n",
    "```"
   ]
  },
  {
   "cell_type": "markdown",
   "metadata": {
    "hidden": true
   },
   "source": [
    "<p>\n",
    "</p>\n",
    "<details>\n",
    "    <summary><b><u>Click Here for Answer Code</u></b></summary>\n",
    "\n",
    "```sql\n",
    "WITH top_3_airports AS (\n",
    "    SELECT \n",
    "        airports.id \n",
    "    FROM \n",
    "        airports \n",
    "        LEFT JOIN routes\n",
    "            ON routes.source_id = airports.id\n",
    "    GROUP BY\n",
    "        airports.id\n",
    "    ORDER BY \n",
    "        COUNT() DESC\n",
    "    LIMIT 3\n",
    ") \n",
    "\n",
    "SELECT DISTINCT\n",
    "    rt.airline\n",
    "FROM\n",
    "    routes AS rt\n",
    "    LEFT JOIN airports AS ap\n",
    "        ON rt.source_id = ap.id\n",
    "WHERE \n",
    "    rt.source_id IN top_3_airports\n",
    "```\n",
    "</details>"
   ]
  },
  {
   "cell_type": "markdown",
   "metadata": {
    "heading_collapsed": true
   },
   "source": [
    "# SQL Versions"
   ]
  },
  {
   "cell_type": "markdown",
   "metadata": {
    "hidden": true
   },
   "source": [
    "There is no one version of SQL - there are many versions out there! What you're learning about SQL with SQLite will apply to all of them. Just keep in mind when you apply for jobs that you may see any of these listed in any given job posting, and they are all just different versions of what you know."
   ]
  },
  {
   "cell_type": "markdown",
   "metadata": {
    "heading_collapsed": true,
    "hidden": true
   },
   "source": [
    "## SQL Dialects"
   ]
  },
  {
   "cell_type": "markdown",
   "metadata": {
    "hidden": true
   },
   "source": [
    "As with dialects of spoken languages, SQL dialects have many commonalities but some differences in syntax and functionality.  Here are a few of the major players:\n",
    "\n",
    "- SQLite (we've already seen this!)\n",
    "- PostgreSQL (free and open-source!)\n",
    "- Oracle SQL\n",
    "- MySQL (half open-souce, half Oracle)\n",
    "- Microsoft SQL Server\n",
    "- Transact-SQL (extends MS SQL)"
   ]
  },
  {
   "cell_type": "markdown",
   "metadata": {
    "heading_collapsed": true,
    "hidden": true
   },
   "source": [
    "## SQLite Pros & Cons"
   ]
  },
  {
   "cell_type": "markdown",
   "metadata": {
    "hidden": true
   },
   "source": [
    "We use SQLite in this course, but it has some limitations."
   ]
  },
  {
   "cell_type": "markdown",
   "metadata": {
    "heading_collapsed": true,
    "hidden": true
   },
   "source": [
    "### Pros"
   ]
  },
  {
   "cell_type": "markdown",
   "metadata": {
    "hidden": true
   },
   "source": [
    "- Easy to set up\n",
    "- Easy to share database files\n",
    "- Uses little memory"
   ]
  },
  {
   "cell_type": "markdown",
   "metadata": {
    "heading_collapsed": true,
    "hidden": true
   },
   "source": [
    "### Cons"
   ]
  },
  {
   "cell_type": "markdown",
   "metadata": {
    "hidden": true
   },
   "source": [
    "- Limited functionality for managing users and access permissions\n",
    "- Not \"thread safe\": two edits at the same time can mess up your data"
   ]
  },
  {
   "cell_type": "markdown",
   "metadata": {
    "heading_collapsed": true,
    "hidden": true
   },
   "source": [
    "## Extra Resources: SQL Versions"
   ]
  },
  {
   "cell_type": "markdown",
   "metadata": {
    "hidden": true
   },
   "source": [
    "[What Is a SQL Dialect, and Which one Should You Learn?](https://learnsql.com/blog/what-sql-dialect-to-learn/)\n",
    "\n",
    "[SQLite vs MySQL vs PostgreSQL](https://www.digitalocean.com/community/tutorials/sqlite-vs-mysql-vs-postgresql-a-comparison-of-relational-database-management-systems)\n",
    "\n",
    "[SQL Dialect Reference](https://en.wikibooks.org/wiki/SQL_Dialects_Reference)"
   ]
  }
 ],
 "metadata": {
  "hide_input": false,
  "kernelspec": {
   "display_name": "Python 3 (ipykernel)",
   "language": "python",
   "name": "python3"
  },
  "language_info": {
   "codemirror_mode": {
    "name": "ipython",
    "version": 3
   },
   "file_extension": ".py",
   "mimetype": "text/x-python",
   "name": "python",
   "nbconvert_exporter": "python",
   "pygments_lexer": "ipython3",
   "version": "3.8.12"
  },
  "latex_envs": {
   "LaTeX_envs_menu_present": true,
   "autoclose": false,
   "autocomplete": true,
   "bibliofile": "biblio.bib",
   "cite_by": "apalike",
   "current_citInitial": 1,
   "eqLabelWithNumbers": true,
   "eqNumInitial": 1,
   "hotkeys": {
    "equation": "Ctrl-E",
    "itemize": "Ctrl-I"
   },
   "labels_anchors": false,
   "latex_user_defs": false,
   "report_style_numbering": false,
   "user_envs_cfg": false
  },
  "nbTranslate": {
   "displayLangs": [
    "*"
   ],
   "hotkey": "alt-t",
   "langInMainMenu": true,
   "sourceLang": "en",
   "targetLang": "fr",
   "useGoogleTranslate": true
  },
  "toc": {
   "base_numbering": 1,
   "nav_menu": {},
   "number_sections": true,
   "sideBar": true,
   "skip_h1_title": false,
   "title_cell": "Table of Contents",
   "title_sidebar": "TOC",
   "toc_cell": true,
   "toc_position": {
    "height": "calc(100% - 180px)",
    "left": "10px",
    "top": "150px",
    "width": "336px"
   },
   "toc_section_display": true,
   "toc_window_display": false
  },
  "varInspector": {
   "cols": {
    "lenName": 16,
    "lenType": 16,
    "lenVar": 40
   },
   "kernels_config": {
    "python": {
     "delete_cmd_postfix": "",
     "delete_cmd_prefix": "del ",
     "library": "var_list.py",
     "varRefreshCmd": "print(var_dic_list())"
    },
    "r": {
     "delete_cmd_postfix": ") ",
     "delete_cmd_prefix": "rm(",
     "library": "var_list.r",
     "varRefreshCmd": "cat(var_dic_list()) "
    }
   },
   "types_to_exclude": [
    "module",
    "function",
    "builtin_function_or_method",
    "instance",
    "_Feature"
   ],
   "window_display": false
  }
 },
 "nbformat": 4,
 "nbformat_minor": 2
}
